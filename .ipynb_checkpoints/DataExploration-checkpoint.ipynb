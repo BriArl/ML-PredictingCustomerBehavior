{
 "cells": [
  {
   "cell_type": "code",
   "execution_count": 1,
   "id": "f8733db8-ed92-412f-9bb9-1698e1f7dd0c",
   "metadata": {},
   "outputs": [],
   "source": [
    "#Set up import staments for libraries\n",
    "\n",
    "import pandas as pd\n",
    "import matplotlib.pyplot as plt\n",
    "import seaborn as sns\n",
    "import squarify as sq"
   ]
  },
  {
   "cell_type": "code",
   "execution_count": null,
   "id": "b5d8f4c5-8250-4b6b-90d8-915d62bc2646",
   "metadata": {},
   "outputs": [],
   "source": [
    "#read in this online retail dataset excel file from datasets folder\n",
    "#pandas DataFrame will provide data types for the different columns within the excel file\n",
    "\n",
    "retail_dataset = pd.read_excel(\"./datasets/Online Retail.xlsx\")\n",
    "retail_dataset.head(10)"
   ]
  },
  {
   "cell_type": "code",
   "execution_count": null,
   "id": "09d4a755-187b-45e8-a363-bbc22985c68d",
   "metadata": {},
   "outputs": [],
   "source": [
    "# add in a new column called TotalPrice, which is quantity * unit price\n",
    "\n",
    "retail_dataset[\"TotalPrice\"] = retail_dataset[\"Quantity\"] * retail_dataset[\"UnitPrice\"]\n",
    "retail_dataset.head();"
   ]
  },
  {
   "cell_type": "code",
   "execution_count": null,
   "id": "63e0f4da-9229-49eb-a45b-a4677b909c2d",
   "metadata": {},
   "outputs": [],
   "source": [
    "# I extracted data from InvoiceDate to look for interesting patterns\n",
    "\n",
    "retail_dataset[\"Year\"] = retail_dataset[\"InvoiceDate\"].dt.year\n",
    "retail_dataset[\"Month\"] = retail_dataset[\"InvoiceDate\"].dt.month\n",
    "retail_dataset[\"Hour\"] = retail_dataset[\"InvoiceDate\"].dt.hour\n",
    "retail_dataset[\"DayOfWeek\"] = retail_dataset[\"InvoiceDate\"].dt.dayofweek\n",
    "retail_dataset[\"DayName\"] = retail_dataset[\"InvoiceDate\"].dt.day_name()"
   ]
  },
  {
   "cell_type": "code",
   "execution_count": null,
   "id": "2d65be79-514b-46b0-8528-2828d0d52e05",
   "metadata": {},
   "outputs": [],
   "source": [
    "# displays new \n",
    "# these columns arent needed fp]or market basket analysis but I will use them for exploratory data analysis\n",
    "\n",
    "retail_dataset.sample(5)"
   ]
  },
  {
   "cell_type": "code",
   "execution_count": null,
   "id": "18cb472a-97b0-4ede-aa67-e7b4cabd5e62",
   "metadata": {},
   "outputs": [],
   "source": [
    "# I converted this categorical data, I invoke the pd.Categorial and pass in the \n",
    "# DayName categories and ensure to indicate they are ordered. This helps visualize\n",
    "# data by DayName in the correct order. (Will see vizualization through the barplot)\n",
    "\n",
    "day_names = [\"Sunday\", \"Monday\", \"Tuesday\", \"Wednesday\", \"Thursday\", \"Friday\"]\n",
    "retail_dataset[\"DayName\"] = pd.Categorical(retail_dataset['DayName'],\n",
    "                                           categories = day_names,\n",
    "                                           ordered = True)"
   ]
  },
  {
   "cell_type": "code",
   "execution_count": null,
   "id": "7102d77a-0e22-427e-b870-646d2c7b2956",
   "metadata": {},
   "outputs": [],
   "source": [
    "# Barplot will plot the sum of the total price across all days, this allows us to\n",
    "# see if there are certain days where sales are higher. \n",
    "\n",
    "plt.figure(figsize = (12, 8))\n",
    "sns.barplot(x = \"DayName\", y = \"TotalPrice\", data = retail_dataset)\n",
    "plt.title(\"Sale on different Days of the Week\")\n",
    "\n",
    "plt.xlabel(\"Days of the Week\")\n",
    "plt.ylabel(\"Total Sales\")\n",
    "\n",
    "# no data for saturday, Tues & Thurs seems to be highest sale days. "
   ]
  },
  {
   "cell_type": "code",
   "execution_count": null,
   "id": "c3ee8441-b693-476b-90ea-ee95de37a465",
   "metadata": {},
   "outputs": [],
   "source": [
    "# created a privot table that visualizes the average sales of products for everyday of the month\n",
    "# pivot index will consist of the month, DayName, TotalPrice, mean\n",
    "\n",
    "pivot_retail_dataset = retail_dataset.pivot_table(index = \"Month\",\n",
    "                                                   columns = \"DayName\",\n",
    "                                                   values = \"TotalPrice\",\n",
    "                                                   aggfunc = 'mean')\n",
    "pivot_retail_dataset"
   ]
  },
  {
   "cell_type": "code",
   "execution_count": null,
   "id": "11ac370b-fb5b-4ac7-b2e7-5adef032cc2e",
   "metadata": {},
   "outputs": [],
   "source": [
    "# now that we have the average sale data, I displayed these averges in a heatmap visualization\n",
    "\n",
    "plt.figure(figsize = [12, 8])\n",
    "sns.heatmap(pivot_retail_dataset, linewidths = 1, annot = True)\n",
    "plt.title(\"Average revenue of each day of every Month\")\n",
    "\n",
    "plt.xlabel(\"Days of the Week\")\n",
    "plt.ylabel(\"Months represented\")\n"
   ]
  },
  {
   "cell_type": "code",
   "execution_count": null,
   "id": "cb4fc40f-2488-44ea-afcd-558a285825d6",
   "metadata": {},
   "outputs": [],
   "source": [
    "# based on the quantity of a paticular item sold, I plotted the 10 most popular items\n",
    "\n",
    "fig, ax = plt.subplots(figsize = (12,8))\n",
    "retail_dataset[\"Description\"].value_counts().sort_values(ascending = False).head(10).plot.bar()\n",
    "plt.title(\"Top 5 Most Popular Items\")\n",
    "\n",
    "plt.xlabel(\"Description\")\n",
    "plt.ylabel(\"Frequency\")\n"
   ]
  },
  {
   "cell_type": "code",
   "execution_count": null,
   "id": "036b8b7d-768d-4cba-a928-00c14b6caa95",
   "metadata": {},
   "outputs": [],
   "source": [
    "# implemented a tree map as they are slightly more better is setting up visualization\n",
    "\n",
    "plt.figure(figsize = (16,8))\n",
    "\n",
    "x = retail_dataset[\"Description\"].value_counts().sort_values(ascending = False).head(10)\n",
    "color = [\"lime\", \"pink\", \"lightgreen\", \"yellow\", \"orange\", \"red\", \"lightblue\", \"cyan\", \"azure\"]\n",
    "sq.plot(sizes = x, label = x.index, color = color).axis('off')\n",
    "plt.title(\"Top 5 Most Popular Items\")"
   ]
  },
  {
   "cell_type": "code",
   "execution_count": null,
   "id": "90648ef4-b91e-4ca9-b314-acc2e27dfc27",
   "metadata": {},
   "outputs": [],
   "source": [
    "# Now that I've sorted out my data and will perform market basket analysis\n",
    "# I'm getting rid of the colums I dont need\n",
    "\n",
    "retail_dataset = retail_dataset.drop([\"Quantity\",\n",
    "                                      \"InvoiceDate\", \"UnitPrice\",\\\n",
    "                                      \"Country\", \"TotalPrice\",\\\n",
    "                                      \"Year\", \"Month\", \"Hour\", \\\n",
    "                                      \"DayOfWeek\", \"DayName\"], axis = 1)\n",
    "\n",
    "retail_dataset.head()\n",
    "\n",
    "#the only columns I need are InvoiceNo and Descriptions."
   ]
  },
  {
   "cell_type": "code",
   "execution_count": null,
   "id": "47730046-262c-4671-b686-0dd8c1060c56",
   "metadata": {},
   "outputs": [],
   "source": [
    "# now I'd like to know which products are sold together (which items are aprart of the same invoice)\n",
    "\n",
    "# now I'd like to know which products are sold together (which items are aprart of the same invoice)\n",
    "\n",
    "# Select only the columns containing string data\n",
    "string_columns = retail_dataset.select_dtypes(include=[object]).columns\n",
    "\n",
    "# Group by \"InvoiceNo\" and concatenate the items in each transaction for string columns\n",
    "items_per_transaction = retail_dataset.groupby(\"InvoiceNo\")[string_columns].apply(lambda x: \",\".join(x.dropna())).reset_index()\n",
    "\n",
    "# Display the result\n",
    "items_per_transaction.head()"
   ]
  },
  {
   "cell_type": "code",
   "execution_count": null,
   "id": "ad0e4aa8-9d4b-43d9-b3e9-c8faaaf54caa",
   "metadata": {},
   "outputs": [],
   "source": []
  }
 ],
 "metadata": {
  "kernelspec": {
   "display_name": "Python 3 (ipykernel)",
   "language": "python",
   "name": "python3"
  },
  "language_info": {
   "codemirror_mode": {
    "name": "ipython",
    "version": 3
   },
   "file_extension": ".py",
   "mimetype": "text/x-python",
   "name": "python",
   "nbconvert_exporter": "python",
   "pygments_lexer": "ipython3",
   "version": "3.10.7"
  },
  "vscode": {
   "interpreter": {
    "hash": "aee8b7b246df8f9039afb4144a1f6fd8d2ca17a180786b69acc140d282b71a49"
   }
  }
 },
 "nbformat": 4,
 "nbformat_minor": 5
}
